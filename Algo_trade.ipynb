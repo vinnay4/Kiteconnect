{
  "nbformat": 4,
  "nbformat_minor": 0,
  "metadata": {
    "colab": {
      "provenance": []
    },
    "kernelspec": {
      "name": "python3",
      "display_name": "Python 3"
    },
    "language_info": {
      "name": "python"
    }
  },
  "cells": [
    {
      "cell_type": "code",
      "source": [
        "pip install --upgrade kiteconnect"
      ],
      "metadata": {
        "collapsed": true,
        "colab": {
          "base_uri": "https://localhost:8080/"
        },
        "id": "KZh0rL_6Bs-q",
        "outputId": "b12bb6a9-b19b-41b8-f92e-b0b07bdf95b2"
      },
      "execution_count": null,
      "outputs": [
        {
          "output_type": "stream",
          "name": "stdout",
          "text": [
            "Requirement already satisfied: kiteconnect in /usr/local/lib/python3.11/dist-packages (5.0.1)\n",
            "Requirement already satisfied: service-identity>=18.1.0 in /usr/local/lib/python3.11/dist-packages (from kiteconnect) (24.2.0)\n",
            "Requirement already satisfied: requests>=2.18.4 in /usr/local/lib/python3.11/dist-packages (from kiteconnect) (2.32.3)\n",
            "Requirement already satisfied: six>=1.11.0 in /usr/local/lib/python3.11/dist-packages (from kiteconnect) (1.17.0)\n",
            "Requirement already satisfied: pyOpenSSL>=17.5.0 in /usr/local/lib/python3.11/dist-packages (from kiteconnect) (24.2.1)\n",
            "Requirement already satisfied: python-dateutil>=2.6.1 in /usr/local/lib/python3.11/dist-packages (from kiteconnect) (2.9.0.post0)\n",
            "Requirement already satisfied: autobahn==19.11.2 in /usr/local/lib/python3.11/dist-packages (from autobahn[twisted]==19.11.2->kiteconnect) (19.11.2)\n",
            "Requirement already satisfied: txaio>=18.8.1 in /usr/local/lib/python3.11/dist-packages (from autobahn==19.11.2->autobahn[twisted]==19.11.2->kiteconnect) (25.6.1)\n",
            "Requirement already satisfied: cryptography>=2.7 in /usr/local/lib/python3.11/dist-packages (from autobahn==19.11.2->autobahn[twisted]==19.11.2->kiteconnect) (43.0.3)\n",
            "Requirement already satisfied: zope.interface>=3.6.0 in /usr/local/lib/python3.11/dist-packages (from autobahn[twisted]==19.11.2->kiteconnect) (7.2)\n",
            "Requirement already satisfied: Twisted>=12.1.0 in /usr/local/lib/python3.11/dist-packages (from autobahn[twisted]==19.11.2->kiteconnect) (25.5.0)\n",
            "Requirement already satisfied: charset-normalizer<4,>=2 in /usr/local/lib/python3.11/dist-packages (from requests>=2.18.4->kiteconnect) (3.4.2)\n",
            "Requirement already satisfied: idna<4,>=2.5 in /usr/local/lib/python3.11/dist-packages (from requests>=2.18.4->kiteconnect) (3.10)\n",
            "Requirement already satisfied: urllib3<3,>=1.21.1 in /usr/local/lib/python3.11/dist-packages (from requests>=2.18.4->kiteconnect) (2.4.0)\n",
            "Requirement already satisfied: certifi>=2017.4.17 in /usr/local/lib/python3.11/dist-packages (from requests>=2.18.4->kiteconnect) (2025.6.15)\n",
            "Requirement already satisfied: attrs>=19.1.0 in /usr/local/lib/python3.11/dist-packages (from service-identity>=18.1.0->kiteconnect) (25.3.0)\n",
            "Requirement already satisfied: pyasn1 in /usr/local/lib/python3.11/dist-packages (from service-identity>=18.1.0->kiteconnect) (0.6.1)\n",
            "Requirement already satisfied: pyasn1-modules in /usr/local/lib/python3.11/dist-packages (from service-identity>=18.1.0->kiteconnect) (0.4.2)\n",
            "Requirement already satisfied: cffi>=1.12 in /usr/local/lib/python3.11/dist-packages (from cryptography>=2.7->autobahn==19.11.2->autobahn[twisted]==19.11.2->kiteconnect) (1.17.1)\n",
            "Requirement already satisfied: automat>=24.8.0 in /usr/local/lib/python3.11/dist-packages (from Twisted>=12.1.0->autobahn[twisted]==19.11.2->kiteconnect) (25.4.16)\n",
            "Requirement already satisfied: constantly>=15.1 in /usr/local/lib/python3.11/dist-packages (from Twisted>=12.1.0->autobahn[twisted]==19.11.2->kiteconnect) (23.10.4)\n",
            "Requirement already satisfied: hyperlink>=17.1.1 in /usr/local/lib/python3.11/dist-packages (from Twisted>=12.1.0->autobahn[twisted]==19.11.2->kiteconnect) (21.0.0)\n",
            "Requirement already satisfied: incremental>=24.7.0 in /usr/local/lib/python3.11/dist-packages (from Twisted>=12.1.0->autobahn[twisted]==19.11.2->kiteconnect) (24.7.2)\n",
            "Requirement already satisfied: typing-extensions>=4.2.0 in /usr/local/lib/python3.11/dist-packages (from Twisted>=12.1.0->autobahn[twisted]==19.11.2->kiteconnect) (4.14.0)\n",
            "Requirement already satisfied: setuptools in /usr/local/lib/python3.11/dist-packages (from zope.interface>=3.6.0->autobahn[twisted]==19.11.2->kiteconnect) (75.2.0)\n",
            "Requirement already satisfied: pycparser in /usr/local/lib/python3.11/dist-packages (from cffi>=1.12->cryptography>=2.7->autobahn==19.11.2->autobahn[twisted]==19.11.2->kiteconnect) (2.22)\n"
          ]
        }
      ]
    },
    {
      "cell_type": "code",
      "execution_count": null,
      "metadata": {
        "id": "TWTib1b-WQGI",
        "collapsed": true
      },
      "outputs": [],
      "source": [
        "import logging\n",
        "from kiteconnect import KiteConnect\n",
        "logging.basicConfig(level=logging.DEBUG)\n",
        "import os\n",
        "import logging\n",
        "from datetime import datetime, time, timedelta # Added timedelta for precise time checks\n",
        "from kiteconnect import exceptions as kc_exceptions # For specic error handling\n",
        "import time\n",
        "import pytz\n",
        "import threading\n",
        "TIMEZONE = 'Asia/Kolkata'\n",
        "\n",
        "kite = KiteConnect(api_key=\"xyz\")"
      ]
    },
    {
      "cell_type": "code",
      "source": [
        "kite.login_url()"
      ],
      "metadata": {
        "colab": {
          "base_uri": "https://localhost:8080/",
          "height": 35
        },
        "id": "gM2N2RDQZx58",
        "outputId": "de321c7d-0d74-4f3c-85dd-9bb9ea24d01d"
      },
      "execution_count": null,
      "outputs": [
        {
          "output_type": "execute_result",
          "data": {
            "text/plain": [
              "'https://kite.zerodha.com/connect/login?api_key=t68lihmtgkv55ee3&v=3'"
            ],
            "application/vnd.google.colaboratory.intrinsic+json": {
              "type": "string"
            }
          },
          "metadata": {},
          "execution_count": 28
        }
      ]
    },
    {
      "cell_type": "code",
      "source": [
        "data = kite.genearate_session(\"Request token\", api_secret=\"abc\")"
      ],
      "metadata": {
        "id": "icpn2hBgakRU"
      },
      "execution_count": null,
      "outputs": []
    },
    {
      "cell_type": "code",
      "source": [
        "kite.set_access_token(data[\"access_token\"])"
      ],
      "metadata": {
        "id": "-Wa7tzGXahFG"
      },
      "execution_count": null,
      "outputs": []
    },
    {
      "cell_type": "code",
      "source": [
        "        # {\n",
        "        #     \"tradingsymbol\": \"COLAB\", \"exchange\": \"BSE\", \"transaction_type\": \"SELL\",\n",
        "        #     \"quantity\": 2, \"price\": 37.56, \"product\": \"CNC\", \"order_type\": \"LIMIT\",\n",
        "        #     \"validity\": \"DAY\", \"variety\": \"regular\",\n",
        "        # },"
      ],
      "metadata": {
        "id": "p5eSRdbDfrxB"
      },
      "execution_count": null,
      "outputs": []
    },
    {
      "cell_type": "markdown",
      "source": [
        "Order placing & Time"
      ],
      "metadata": {
        "id": "OlzmhtNI_lJk"
      }
    },
    {
      "cell_type": "code",
      "source": [
        "TARGET_HOUR = 15\n",
        "TARGET_MINUTE = 1\n",
        "TARGET_SECOND = 0\n",
        "TARGET_MICROSECOND = 0\n",
        "\n",
        "def execute_my_action():\n",
        "    current_time_action = datetime.now(pytz.timezone(TIMEZONE))\n",
        "    print(f\"\\n--- ACTION EXECUTED! ---\")\n",
        "    print(f\"Time of execution: {current_time_action.strftime('%Y-%m-%d %H:%M:%S.%f')[:-3]} (IST)\")\n",
        "    print(\"Executing your Zerodha trading logic here...\")\n",
        "\n",
        "    ORDERS_TO_PLACE = [\n",
        "        {\n",
        "            \"tradingsymbol\": \"COLAB\", \"exchange\": \"BSE\", \"transaction_type\": \"SELL\",\n",
        "            \"quantity\": 1, \"price\": 37.56, \"product\": \"CNC\", \"order_type\": \"LIMIT\",\n",
        "            \"validity\": \"DAY\", \"variety\": \"regular\",\n",
        "        },\n",
        "        {\n",
        "            \"tradingsymbol\": \"COLAB\", \"exchange\": \"BSE\", \"transaction_type\": \"SELL\",\n",
        "            \"quantity\": 2, \"price\": 37.56, \"product\": \"CNC\", \"order_type\": \"LIMIT\",\n",
        "            \"validity\": \"DAY\", \"variety\": \"regular\",\n",
        "        },\n",
        "        {\n",
        "            \"tradingsymbol\": \"COLAB\", \"exchange\": \"BSE\", \"transaction_type\": \"SELL\",\n",
        "            \"quantity\": 3, \"price\": 37.56, \"product\": \"CNC\", \"order_type\": \"LIMIT\",\n",
        "            \"validity\": \"DAY\", \"variety\": \"regular\",\n",
        "        },\n",
        "        {\n",
        "            \"tradingsymbol\": \"COLAB\", \"exchange\": \"BSE\", \"transaction_type\": \"SELL\",\n",
        "            \"quantity\": 1, \"price\": 37.56, \"product\": \"CNC\", \"order_type\": \"LIMIT\",\n",
        "            \"validity\": \"DAY\", \"variety\": \"regular\",\n",
        "        },\n",
        "        {\n",
        "            \"tradingsymbol\": \"COLAB\", \"exchange\": \"BSE\", \"transaction_type\": \"SELL\",\n",
        "            \"quantity\": 2, \"price\": 37.56, \"product\": \"CNC\", \"order_type\": \"LIMIT\",\n",
        "            \"validity\": \"DAY\", \"variety\": \"regular\",\n",
        "        },\n",
        "    ]\n",
        "\n",
        "    threads = []\n",
        "    if not ORDERS_TO_PLACE:\n",
        "        logging.warning(\"No orders defined in ORDERS_TO_PLACE. Skipping order placement.\")\n",
        "        return\n",
        "\n",
        "    for i, order_data in enumerate(ORDERS_TO_PLACE):\n",
        "        # Create a copy of the order_data dictionary because we will modify it with .pop()\n",
        "        # and we don't want to affect the original list.\n",
        "        current_order_params = order_data.copy()\n",
        "\n",
        "        # Extract 'variety' as a positional argument first\n",
        "        # This is the key change to resolve the TypeError\n",
        "        try:\n",
        "            variety_arg = current_order_params.pop(\"variety\")\n",
        "        except KeyError:\n",
        "            logging.error(f\"Order {i+1} is missing the required 'variety' key. Skipping this order.\")\n",
        "            continue # Skip to the next order\n",
        "\n",
        "        tradingsymbol_log = current_order_params.get('tradingsymbol', 'N/A')\n",
        "        quantity_log = current_order_params.get('quantity', 'N/A')\n",
        "\n",
        "        # Define a small helper function or lambda for the thread target\n",
        "        # This function will capture the specific order details for each thread\n",
        "        def thread_target(var, params_dict, ts_log, qty_log, order_num):\n",
        "            try:\n",
        "                order_id = kite.place_order(var, **params_dict)\n",
        "                logging.info(f\"Order {order_num} placed for {ts_log} (Qty: {qty_log}, Variety: {var}). ID is: {order_id}\")\n",
        "            except Exception as e:\n",
        "                logging.error(f\"Order {order_num} placement failed for {ts_log} (Qty: {qty_log}): {e}\")\n",
        "\n",
        "        # Create and start the thread\n",
        "        thread = threading.Thread(\n",
        "            target=thread_target,\n",
        "            args=(variety_arg, current_order_params, tradingsymbol_log, quantity_log, i+1)\n",
        "        )\n",
        "        threads.append(thread)\n",
        "        thread.start()\n",
        "\n",
        "    # Wait for all threads to complete\n",
        "    for thread in threads:\n",
        "        thread.join()\n",
        "\n",
        "    logging.info(\"All order placement attempts have been initiated and processed.\")\n",
        "\n",
        "\n",
        "local_tz = pytz.timezone(TIMEZONE)\n",
        "current_time = datetime.now(local_tz)\n",
        "\n",
        "target_time_today = current_time.replace(\n",
        "    hour=TARGET_HOUR,\n",
        "    minute=TARGET_MINUTE,\n",
        "    second=TARGET_SECOND,\n",
        "    microsecond=TARGET_MICROSECOND\n",
        ")\n",
        "\n",
        "if current_time >= target_time_today:\n",
        "    print(f\"Current time ({current_time.strftime('%H:%M:%S.%f')[:-3]} IST) is already past or exactly the target time for today ({target_time_today.strftime('%H:%M:%S.%f')[:-3]} IST).\")\n",
        "    print(\"Action not executed as the target time has passed.\")\n",
        "else:\n",
        "    time_to_wait_seconds = (target_time_today - current_time).total_seconds()\n",
        "\n",
        "    print(f\"Current time (IST): {current_time.strftime('%Y-%m-%d %H:%M:%S.%f')[:-3]}\")\n",
        "    print(f\"Target execution time (IST): {target_time_today.strftime('%Y-%m-%d %H:%M:%S.%f')[:-3]}\")\n",
        "    print(f\"Waiting for {time_to_wait_seconds:.3f} seconds until {TARGET_HOUR:02}:{TARGET_MINUTE:02}:{TARGET_SECOND:02}.{TARGET_MICROSECOND:06} IST...\")\n",
        "\n",
        "    while datetime.now(local_tz) < target_time_today:\n",
        "        time.sleep(0.001)\n",
        "    execute_my_action()"
      ],
      "metadata": {
        "colab": {
          "base_uri": "https://localhost:8080/"
        },
        "id": "CQ6uKlW7LVeN",
        "outputId": "f0a7d27d-6ccf-4d78-b39f-14bca2ab1430"
      },
      "execution_count": null,
      "outputs": [
        {
          "output_type": "stream",
          "name": "stdout",
          "text": [
            "Current time (IST): 2025-07-07 15:00:45.730\n",
            "Target execution time (IST): 2025-07-07 15:01:00.000\n",
            "Waiting for 14.270 seconds until 15:01:00.000000 IST...\n",
            "\n",
            "--- ACTION EXECUTED! ---\n",
            "Time of execution: 2025-07-07 15:01:00.000 (IST)\n",
            "Executing your Zerodha trading logic here...\n"
          ]
        },
        {
          "output_type": "stream",
          "name": "stderr",
          "text": [
            "WARNING:urllib3.connectionpool:Connection pool is full, discarding connection: api.kite.trade. Connection pool size: 10\n",
            "WARNING:urllib3.connectionpool:Connection pool is full, discarding connection: api.kite.trade. Connection pool size: 10\n",
            "WARNING:urllib3.connectionpool:Connection pool is full, discarding connection: api.kite.trade. Connection pool size: 10\n",
            "WARNING:urllib3.connectionpool:Connection pool is full, discarding connection: api.kite.trade. Connection pool size: 10\n",
            "WARNING:urllib3.connectionpool:Connection pool is full, discarding connection: api.kite.trade. Connection pool size: 10\n",
            "WARNING:urllib3.connectionpool:Connection pool is full, discarding connection: api.kite.trade. Connection pool size: 10\n",
            "WARNING:urllib3.connectionpool:Connection pool is full, discarding connection: api.kite.trade. Connection pool size: 10\n",
            "WARNING:urllib3.connectionpool:Connection pool is full, discarding connection: api.kite.trade. Connection pool size: 10\n",
            "WARNING:urllib3.connectionpool:Connection pool is full, discarding connection: api.kite.trade. Connection pool size: 10\n",
            "WARNING:urllib3.connectionpool:Connection pool is full, discarding connection: api.kite.trade. Connection pool size: 10\n",
            "WARNING:urllib3.connectionpool:Connection pool is full, discarding connection: api.kite.trade. Connection pool size: 10\n"
          ]
        }
      ]
    }
  ]
}